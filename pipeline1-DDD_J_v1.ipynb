{
 "cells": [
  {
   "cell_type": "code",
   "execution_count": 1,
   "id": "976f4689",
   "metadata": {},
   "outputs": [],
   "source": [
    "import pandas as pd\n",
    "import numpy as np"
   ]
  },
  {
   "cell_type": "code",
   "execution_count": 2,
   "id": "d67e608b",
   "metadata": {},
   "outputs": [],
   "source": [
    "def get_student_date_site_sumclick_aggregated_tensor(tmp):\n",
    "    '''\n",
    "    pandas.DataFrame based on studentVle with multiindex\n",
    "    '''\n",
    "    all_id_student = tmp.index.get_level_values('id_student').unique().values\n",
    "    \n",
    "    return np.sort(all_id_student), np.nan_to_num(tmp.squeeze().to_xarray().to_numpy(), copy=False, nan=0.0)"
   ]
  },
  {
   "cell_type": "code",
   "execution_count": 3,
   "id": "73a604ac",
   "metadata": {},
   "outputs": [],
   "source": [
    "studentData_DDD = pd.read_csv('../data/studentData_DDD_all_yrs.csv')"
   ]
  },
  {
   "cell_type": "code",
   "execution_count": 4,
   "id": "944f54f4",
   "metadata": {},
   "outputs": [],
   "source": [
    "# usuwam tych, którzy nie pisali egzaminu i olali po prostu\n",
    "studentData_DDD = studentData_DDD.loc[np.logical_not(studentData_DDD.score.isnull())]"
   ]
  },
  {
   "cell_type": "code",
   "execution_count": null,
   "id": "b352a389",
   "metadata": {},
   "outputs": [],
   "source": []
  },
  {
   "cell_type": "code",
   "execution_count": 5,
   "id": "7117a3fd",
   "metadata": {},
   "outputs": [
    {
     "data": {
      "text/plain": [
       "(1683, 13)"
      ]
     },
     "execution_count": 5,
     "metadata": {},
     "output_type": "execute_result"
    }
   ],
   "source": [
    "studentData_DDD.loc[studentData_DDD[['code_presentation']].applymap(lambda x: x in ['2013J', '2014J']).values].shape"
   ]
  },
  {
   "cell_type": "code",
   "execution_count": 6,
   "id": "41c8b16f",
   "metadata": {},
   "outputs": [
    {
     "data": {
      "text/html": [
       "<div>\n",
       "<style scoped>\n",
       "    .dataframe tbody tr th:only-of-type {\n",
       "        vertical-align: middle;\n",
       "    }\n",
       "\n",
       "    .dataframe tbody tr th {\n",
       "        vertical-align: top;\n",
       "    }\n",
       "\n",
       "    .dataframe thead th {\n",
       "        text-align: right;\n",
       "    }\n",
       "</style>\n",
       "<table border=\"1\" class=\"dataframe\">\n",
       "  <thead>\n",
       "    <tr style=\"text-align: right;\">\n",
       "      <th></th>\n",
       "      <th>code_module</th>\n",
       "      <th>code_presentation</th>\n",
       "      <th>gender</th>\n",
       "      <th>region</th>\n",
       "      <th>highest_education</th>\n",
       "      <th>imd_band</th>\n",
       "      <th>age_band</th>\n",
       "      <th>studied_credits</th>\n",
       "      <th>disability</th>\n",
       "      <th>final_result</th>\n",
       "      <th>date_submitted</th>\n",
       "      <th>score</th>\n",
       "    </tr>\n",
       "    <tr>\n",
       "      <th>id_student</th>\n",
       "      <th></th>\n",
       "      <th></th>\n",
       "      <th></th>\n",
       "      <th></th>\n",
       "      <th></th>\n",
       "      <th></th>\n",
       "      <th></th>\n",
       "      <th></th>\n",
       "      <th></th>\n",
       "      <th></th>\n",
       "      <th></th>\n",
       "      <th></th>\n",
       "    </tr>\n",
       "  </thead>\n",
       "  <tbody>\n",
       "    <tr>\n",
       "      <th>28046</th>\n",
       "      <td>DDD</td>\n",
       "      <td>2013J</td>\n",
       "      <td>F</td>\n",
       "      <td>Yorkshire Region</td>\n",
       "      <td>HE Qualification</td>\n",
       "      <td>10-20</td>\n",
       "      <td>35-55</td>\n",
       "      <td>70</td>\n",
       "      <td>N</td>\n",
       "      <td>Fail</td>\n",
       "      <td>237.0</td>\n",
       "      <td>40.0</td>\n",
       "    </tr>\n",
       "    <tr>\n",
       "      <th>29411</th>\n",
       "      <td>DDD</td>\n",
       "      <td>2013J</td>\n",
       "      <td>M</td>\n",
       "      <td>East Midlands Region</td>\n",
       "      <td>A Level or Equivalent</td>\n",
       "      <td>80-90%</td>\n",
       "      <td>0-35</td>\n",
       "      <td>60</td>\n",
       "      <td>N</td>\n",
       "      <td>Pass</td>\n",
       "      <td>237.0</td>\n",
       "      <td>62.0</td>\n",
       "    </tr>\n",
       "    <tr>\n",
       "      <th>33930</th>\n",
       "      <td>DDD</td>\n",
       "      <td>2013J</td>\n",
       "      <td>F</td>\n",
       "      <td>South West Region</td>\n",
       "      <td>A Level or Equivalent</td>\n",
       "      <td>20-30%</td>\n",
       "      <td>0-35</td>\n",
       "      <td>90</td>\n",
       "      <td>N</td>\n",
       "      <td>Pass</td>\n",
       "      <td>237.0</td>\n",
       "      <td>67.0</td>\n",
       "    </tr>\n",
       "    <tr>\n",
       "      <th>40184</th>\n",
       "      <td>DDD</td>\n",
       "      <td>2013J</td>\n",
       "      <td>M</td>\n",
       "      <td>Wales</td>\n",
       "      <td>HE Qualification</td>\n",
       "      <td>30-40%</td>\n",
       "      <td>55&lt;=</td>\n",
       "      <td>60</td>\n",
       "      <td>N</td>\n",
       "      <td>Distinction</td>\n",
       "      <td>241.0</td>\n",
       "      <td>100.0</td>\n",
       "    </tr>\n",
       "    <tr>\n",
       "      <th>40563</th>\n",
       "      <td>DDD</td>\n",
       "      <td>2013J</td>\n",
       "      <td>F</td>\n",
       "      <td>South East Region</td>\n",
       "      <td>A Level or Equivalent</td>\n",
       "      <td>0-10%</td>\n",
       "      <td>0-35</td>\n",
       "      <td>60</td>\n",
       "      <td>N</td>\n",
       "      <td>Pass</td>\n",
       "      <td>237.0</td>\n",
       "      <td>49.0</td>\n",
       "    </tr>\n",
       "  </tbody>\n",
       "</table>\n",
       "</div>"
      ],
      "text/plain": [
       "           code_module code_presentation gender                region  \\\n",
       "id_student                                                              \n",
       "28046              DDD             2013J      F      Yorkshire Region   \n",
       "29411              DDD             2013J      M  East Midlands Region   \n",
       "33930              DDD             2013J      F     South West Region   \n",
       "40184              DDD             2013J      M                 Wales   \n",
       "40563              DDD             2013J      F     South East Region   \n",
       "\n",
       "                highest_education imd_band age_band  studied_credits  \\\n",
       "id_student                                                             \n",
       "28046            HE Qualification    10-20    35-55               70   \n",
       "29411       A Level or Equivalent   80-90%     0-35               60   \n",
       "33930       A Level or Equivalent   20-30%     0-35               90   \n",
       "40184            HE Qualification   30-40%     55<=               60   \n",
       "40563       A Level or Equivalent    0-10%     0-35               60   \n",
       "\n",
       "           disability final_result  date_submitted  score  \n",
       "id_student                                                 \n",
       "28046               N         Fail           237.0   40.0  \n",
       "29411               N         Pass           237.0   62.0  \n",
       "33930               N         Pass           237.0   67.0  \n",
       "40184               N  Distinction           241.0  100.0  \n",
       "40563               N         Pass           237.0   49.0  "
      ]
     },
     "execution_count": 6,
     "metadata": {},
     "output_type": "execute_result"
    }
   ],
   "source": [
    "studentData_DDD = studentData_DDD.set_index(['id_student']).sort_index()\n",
    "studentData_DDD.head()"
   ]
  },
  {
   "cell_type": "code",
   "execution_count": 7,
   "id": "79a63d25",
   "metadata": {},
   "outputs": [],
   "source": [
    "# być może oddzielę J od B tak jak zalecają, bo struktury kursów się różnią trochę\n",
    "# ale może to nie będzie tak znaczące"
   ]
  },
  {
   "cell_type": "code",
   "execution_count": 8,
   "id": "3926d5de",
   "metadata": {},
   "outputs": [
    {
     "data": {
      "text/html": [
       "<div>\n",
       "<style scoped>\n",
       "    .dataframe tbody tr th:only-of-type {\n",
       "        vertical-align: middle;\n",
       "    }\n",
       "\n",
       "    .dataframe tbody tr th {\n",
       "        vertical-align: top;\n",
       "    }\n",
       "\n",
       "    .dataframe thead th {\n",
       "        text-align: right;\n",
       "    }\n",
       "</style>\n",
       "<table border=\"1\" class=\"dataframe\">\n",
       "  <thead>\n",
       "    <tr style=\"text-align: right;\">\n",
       "      <th></th>\n",
       "      <th>code_module</th>\n",
       "      <th>code_presentation</th>\n",
       "      <th>id_student</th>\n",
       "      <th>id_site</th>\n",
       "      <th>date</th>\n",
       "      <th>sum_click</th>\n",
       "    </tr>\n",
       "  </thead>\n",
       "  <tbody>\n",
       "    <tr>\n",
       "      <th>0</th>\n",
       "      <td>AAA</td>\n",
       "      <td>2013J</td>\n",
       "      <td>28400</td>\n",
       "      <td>546652</td>\n",
       "      <td>-10</td>\n",
       "      <td>4</td>\n",
       "    </tr>\n",
       "    <tr>\n",
       "      <th>1</th>\n",
       "      <td>AAA</td>\n",
       "      <td>2013J</td>\n",
       "      <td>28400</td>\n",
       "      <td>546652</td>\n",
       "      <td>-10</td>\n",
       "      <td>1</td>\n",
       "    </tr>\n",
       "    <tr>\n",
       "      <th>2</th>\n",
       "      <td>AAA</td>\n",
       "      <td>2013J</td>\n",
       "      <td>28400</td>\n",
       "      <td>546652</td>\n",
       "      <td>-10</td>\n",
       "      <td>1</td>\n",
       "    </tr>\n",
       "    <tr>\n",
       "      <th>3</th>\n",
       "      <td>AAA</td>\n",
       "      <td>2013J</td>\n",
       "      <td>28400</td>\n",
       "      <td>546614</td>\n",
       "      <td>-10</td>\n",
       "      <td>11</td>\n",
       "    </tr>\n",
       "    <tr>\n",
       "      <th>4</th>\n",
       "      <td>AAA</td>\n",
       "      <td>2013J</td>\n",
       "      <td>28400</td>\n",
       "      <td>546714</td>\n",
       "      <td>-10</td>\n",
       "      <td>1</td>\n",
       "    </tr>\n",
       "  </tbody>\n",
       "</table>\n",
       "</div>"
      ],
      "text/plain": [
       "  code_module code_presentation  id_student  id_site  date  sum_click\n",
       "0         AAA             2013J       28400   546652   -10          4\n",
       "1         AAA             2013J       28400   546652   -10          1\n",
       "2         AAA             2013J       28400   546652   -10          1\n",
       "3         AAA             2013J       28400   546614   -10         11\n",
       "4         AAA             2013J       28400   546714   -10          1"
      ]
     },
     "metadata": {},
     "output_type": "display_data"
    }
   ],
   "source": [
    "studentVle_xxx = pd.read_csv('../data/studentVle.csv')\n",
    "display(studentVle_xxx.head())"
   ]
  },
  {
   "cell_type": "code",
   "execution_count": 9,
   "id": "6b6d5bab",
   "metadata": {},
   "outputs": [
    {
     "data": {
      "text/html": [
       "<div>\n",
       "<style scoped>\n",
       "    .dataframe tbody tr th:only-of-type {\n",
       "        vertical-align: middle;\n",
       "    }\n",
       "\n",
       "    .dataframe tbody tr th {\n",
       "        vertical-align: top;\n",
       "    }\n",
       "\n",
       "    .dataframe thead th {\n",
       "        text-align: right;\n",
       "    }\n",
       "</style>\n",
       "<table border=\"1\" class=\"dataframe\">\n",
       "  <thead>\n",
       "    <tr style=\"text-align: right;\">\n",
       "      <th></th>\n",
       "      <th>date</th>\n",
       "    </tr>\n",
       "  </thead>\n",
       "  <tbody>\n",
       "    <tr>\n",
       "      <th>count</th>\n",
       "      <td>536837.000000</td>\n",
       "    </tr>\n",
       "    <tr>\n",
       "      <th>mean</th>\n",
       "      <td>81.923148</td>\n",
       "    </tr>\n",
       "    <tr>\n",
       "      <th>std</th>\n",
       "      <td>69.382794</td>\n",
       "    </tr>\n",
       "    <tr>\n",
       "      <th>min</th>\n",
       "      <td>-16.000000</td>\n",
       "    </tr>\n",
       "    <tr>\n",
       "      <th>25%</th>\n",
       "      <td>22.000000</td>\n",
       "    </tr>\n",
       "    <tr>\n",
       "      <th>50%</th>\n",
       "      <td>69.000000</td>\n",
       "    </tr>\n",
       "    <tr>\n",
       "      <th>75%</th>\n",
       "      <td>135.000000</td>\n",
       "    </tr>\n",
       "    <tr>\n",
       "      <th>max</th>\n",
       "      <td>240.000000</td>\n",
       "    </tr>\n",
       "  </tbody>\n",
       "</table>\n",
       "</div>"
      ],
      "text/plain": [
       "                date\n",
       "count  536837.000000\n",
       "mean       81.923148\n",
       "std        69.382794\n",
       "min       -16.000000\n",
       "25%        22.000000\n",
       "50%        69.000000\n",
       "75%       135.000000\n",
       "max       240.000000"
      ]
     },
     "execution_count": 9,
     "metadata": {},
     "output_type": "execute_result"
    },
    {
     "data": {
      "image/png": "[encoded data removed]",
      "text/plain": [
       "<Figure size 640x480 with 1 Axes>"
      ]
     },
     "metadata": {},
     "output_type": "display_data"
    }
   ],
   "source": [
    "studentVle_xxx.set_index(['code_module', 'code_presentation']).loc[('DDD', '2013B')][['date']].hist(bins=100)\n",
    "studentVle_xxx.set_index(['code_module', 'code_presentation']).loc[('DDD', '2013B')][['date']].describe()\n"
   ]
  },
  {
   "cell_type": "code",
   "execution_count": 10,
   "id": "aca0ce3f",
   "metadata": {},
   "outputs": [
    {
     "data": {
      "text/html": [
       "<div>\n",
       "<style scoped>\n",
       "    .dataframe tbody tr th:only-of-type {\n",
       "        vertical-align: middle;\n",
       "    }\n",
       "\n",
       "    .dataframe tbody tr th {\n",
       "        vertical-align: top;\n",
       "    }\n",
       "\n",
       "    .dataframe thead th {\n",
       "        text-align: right;\n",
       "    }\n",
       "</style>\n",
       "<table border=\"1\" class=\"dataframe\">\n",
       "  <thead>\n",
       "    <tr style=\"text-align: right;\">\n",
       "      <th></th>\n",
       "      <th>date</th>\n",
       "    </tr>\n",
       "  </thead>\n",
       "  <tbody>\n",
       "    <tr>\n",
       "      <th>count</th>\n",
       "      <td>680806.000000</td>\n",
       "    </tr>\n",
       "    <tr>\n",
       "      <th>mean</th>\n",
       "      <td>94.970291</td>\n",
       "    </tr>\n",
       "    <tr>\n",
       "      <th>std</th>\n",
       "      <td>78.558483</td>\n",
       "    </tr>\n",
       "    <tr>\n",
       "      <th>min</th>\n",
       "      <td>-18.000000</td>\n",
       "    </tr>\n",
       "    <tr>\n",
       "      <th>25%</th>\n",
       "      <td>23.000000</td>\n",
       "    </tr>\n",
       "    <tr>\n",
       "      <th>50%</th>\n",
       "      <td>86.000000</td>\n",
       "    </tr>\n",
       "    <tr>\n",
       "      <th>75%</th>\n",
       "      <td>159.000000</td>\n",
       "    </tr>\n",
       "    <tr>\n",
       "      <th>max</th>\n",
       "      <td>261.000000</td>\n",
       "    </tr>\n",
       "  </tbody>\n",
       "</table>\n",
       "</div>"
      ],
      "text/plain": [
       "                date\n",
       "count  680806.000000\n",
       "mean       94.970291\n",
       "std        78.558483\n",
       "min       -18.000000\n",
       "25%        23.000000\n",
       "50%        86.000000\n",
       "75%       159.000000\n",
       "max       261.000000"
      ]
     },
     "execution_count": 10,
     "metadata": {},
     "output_type": "execute_result"
    },
    {
     "data": {
      "image/png": "[encoded data removed]",
      "text/plain": [
       "<Figure size 640x480 with 1 Axes>"
      ]
     },
     "metadata": {},
     "output_type": "display_data"
    }
   ],
   "source": [
    "studentVle_xxx.set_index(['code_module', 'code_presentation']).loc[('DDD', '2013J')][['date']].hist(bins=100)\n",
    "studentVle_xxx.set_index(['code_module', 'code_presentation']).loc[('DDD', '2013J')][['date']].describe()\n"
   ]
  },
  {
   "cell_type": "code",
   "execution_count": 11,
   "id": "de78c4f8",
   "metadata": {},
   "outputs": [
    {
     "data": {
      "text/html": [
       "<div>\n",
       "<style scoped>\n",
       "    .dataframe tbody tr th:only-of-type {\n",
       "        vertical-align: middle;\n",
       "    }\n",
       "\n",
       "    .dataframe tbody tr th {\n",
       "        vertical-align: top;\n",
       "    }\n",
       "\n",
       "    .dataframe thead th {\n",
       "        text-align: right;\n",
       "    }\n",
       "</style>\n",
       "<table border=\"1\" class=\"dataframe\">\n",
       "  <thead>\n",
       "    <tr style=\"text-align: right;\">\n",
       "      <th></th>\n",
       "      <th>date</th>\n",
       "    </tr>\n",
       "  </thead>\n",
       "  <tbody>\n",
       "    <tr>\n",
       "      <th>count</th>\n",
       "      <td>379942.000000</td>\n",
       "    </tr>\n",
       "    <tr>\n",
       "      <th>mean</th>\n",
       "      <td>82.832332</td>\n",
       "    </tr>\n",
       "    <tr>\n",
       "      <th>std</th>\n",
       "      <td>73.759238</td>\n",
       "    </tr>\n",
       "    <tr>\n",
       "      <th>min</th>\n",
       "      <td>-18.000000</td>\n",
       "    </tr>\n",
       "    <tr>\n",
       "      <th>25%</th>\n",
       "      <td>19.000000</td>\n",
       "    </tr>\n",
       "    <tr>\n",
       "      <th>50%</th>\n",
       "      <td>64.000000</td>\n",
       "    </tr>\n",
       "    <tr>\n",
       "      <th>75%</th>\n",
       "      <td>139.000000</td>\n",
       "    </tr>\n",
       "    <tr>\n",
       "      <th>max</th>\n",
       "      <td>241.000000</td>\n",
       "    </tr>\n",
       "  </tbody>\n",
       "</table>\n",
       "</div>"
      ],
      "text/plain": [
       "                date\n",
       "count  379942.000000\n",
       "mean       82.832332\n",
       "std        73.759238\n",
       "min       -18.000000\n",
       "25%        19.000000\n",
       "50%        64.000000\n",
       "75%       139.000000\n",
       "max       241.000000"
      ]
     },
     "execution_count": 11,
     "metadata": {},
     "output_type": "execute_result"
    },
    {
     "data": {
      "image/png": "[encoded data removed]",
      "text/plain": [
       "<Figure size 640x480 with 1 Axes>"
      ]
     },
     "metadata": {},
     "output_type": "display_data"
    }
   ],
   "source": [
    "studentVle_xxx.set_index(['code_module', 'code_presentation']).loc[('DDD', '2014B')][['date']].hist(bins=100)\n",
    "studentVle_xxx.set_index(['code_module', 'code_presentation']).loc[('DDD', '2014B')][['date']].describe()\n"
   ]
  },
  {
   "cell_type": "code",
   "execution_count": 12,
   "id": "a7c34fbe",
   "metadata": {},
   "outputs": [
    {
     "data": {
      "text/html": [
       "<div>\n",
       "<style scoped>\n",
       "    .dataframe tbody tr th:only-of-type {\n",
       "        vertical-align: middle;\n",
       "    }\n",
       "\n",
       "    .dataframe tbody tr th {\n",
       "        vertical-align: top;\n",
       "    }\n",
       "\n",
       "    .dataframe thead th {\n",
       "        text-align: right;\n",
       "    }\n",
       "</style>\n",
       "<table border=\"1\" class=\"dataframe\">\n",
       "  <thead>\n",
       "    <tr style=\"text-align: right;\">\n",
       "      <th></th>\n",
       "      <th>date</th>\n",
       "    </tr>\n",
       "  </thead>\n",
       "  <tbody>\n",
       "    <tr>\n",
       "      <th>count</th>\n",
       "      <td>568901.000000</td>\n",
       "    </tr>\n",
       "    <tr>\n",
       "      <th>mean</th>\n",
       "      <td>97.767524</td>\n",
       "    </tr>\n",
       "    <tr>\n",
       "      <th>std</th>\n",
       "      <td>82.497680</td>\n",
       "    </tr>\n",
       "    <tr>\n",
       "      <th>min</th>\n",
       "      <td>-25.000000</td>\n",
       "    </tr>\n",
       "    <tr>\n",
       "      <th>25%</th>\n",
       "      <td>23.000000</td>\n",
       "    </tr>\n",
       "    <tr>\n",
       "      <th>50%</th>\n",
       "      <td>87.000000</td>\n",
       "    </tr>\n",
       "    <tr>\n",
       "      <th>75%</th>\n",
       "      <td>168.000000</td>\n",
       "    </tr>\n",
       "    <tr>\n",
       "      <th>max</th>\n",
       "      <td>262.000000</td>\n",
       "    </tr>\n",
       "  </tbody>\n",
       "</table>\n",
       "</div>"
      ],
      "text/plain": [
       "                date\n",
       "count  568901.000000\n",
       "mean       97.767524\n",
       "std        82.497680\n",
       "min       -25.000000\n",
       "25%        23.000000\n",
       "50%        87.000000\n",
       "75%       168.000000\n",
       "max       262.000000"
      ]
     },
     "execution_count": 12,
     "metadata": {},
     "output_type": "execute_result"
    },
    {
     "data": {
      "image/png": "[encoded data removed]",
      "text/plain": [
       "<Figure size 640x480 with 1 Axes>"
      ]
     },
     "metadata": {},
     "output_type": "display_data"
    }
   ],
   "source": [
    "studentVle_xxx.set_index(['code_module', 'code_presentation']).loc[('DDD', '2014J')][['date']].hist(bins=100)\n",
    "studentVle_xxx.set_index(['code_module', 'code_presentation']).loc[('DDD', '2014J')][['date']].describe()\n"
   ]
  },
  {
   "cell_type": "code",
   "execution_count": 13,
   "id": "792a11a6",
   "metadata": {},
   "outputs": [
    {
     "data": {
      "text/plain": [
       "Int64Index([  28046,   29411,   33930,   40184,   40563,   46753,   48152,\n",
       "              50476,   51030,   51033,\n",
       "            ...\n",
       "            2685863, 2686578, 2688692, 2689536, 2692577, 2693243, 2694886,\n",
       "            2694933, 2695608, 2698251],\n",
       "           dtype='int64', name='id_student', length=2640)"
      ]
     },
     "execution_count": 13,
     "metadata": {},
     "output_type": "execute_result"
    }
   ],
   "source": [
    "studentData_DDD.index.unique()"
   ]
  },
  {
   "cell_type": "code",
   "execution_count": 14,
   "id": "0fce57f6",
   "metadata": {},
   "outputs": [
    {
     "data": {
      "text/html": [
       "<div>\n",
       "<style scoped>\n",
       "    .dataframe tbody tr th:only-of-type {\n",
       "        vertical-align: middle;\n",
       "    }\n",
       "\n",
       "    .dataframe tbody tr th {\n",
       "        vertical-align: top;\n",
       "    }\n",
       "\n",
       "    .dataframe thead th {\n",
       "        text-align: right;\n",
       "    }\n",
       "</style>\n",
       "<table border=\"1\" class=\"dataframe\">\n",
       "  <thead>\n",
       "    <tr style=\"text-align: right;\">\n",
       "      <th></th>\n",
       "      <th>code_module</th>\n",
       "      <th>code_presentation</th>\n",
       "      <th>id_student</th>\n",
       "      <th>id_site</th>\n",
       "      <th>date</th>\n",
       "      <th>sum_click</th>\n",
       "    </tr>\n",
       "  </thead>\n",
       "  <tbody>\n",
       "    <tr>\n",
       "      <th>0</th>\n",
       "      <td>AAA</td>\n",
       "      <td>2013J</td>\n",
       "      <td>28400</td>\n",
       "      <td>546652</td>\n",
       "      <td>-10</td>\n",
       "      <td>4</td>\n",
       "    </tr>\n",
       "    <tr>\n",
       "      <th>1</th>\n",
       "      <td>AAA</td>\n",
       "      <td>2013J</td>\n",
       "      <td>28400</td>\n",
       "      <td>546652</td>\n",
       "      <td>-10</td>\n",
       "      <td>1</td>\n",
       "    </tr>\n",
       "    <tr>\n",
       "      <th>2</th>\n",
       "      <td>AAA</td>\n",
       "      <td>2013J</td>\n",
       "      <td>28400</td>\n",
       "      <td>546652</td>\n",
       "      <td>-10</td>\n",
       "      <td>1</td>\n",
       "    </tr>\n",
       "    <tr>\n",
       "      <th>3</th>\n",
       "      <td>AAA</td>\n",
       "      <td>2013J</td>\n",
       "      <td>28400</td>\n",
       "      <td>546614</td>\n",
       "      <td>-10</td>\n",
       "      <td>11</td>\n",
       "    </tr>\n",
       "    <tr>\n",
       "      <th>4</th>\n",
       "      <td>AAA</td>\n",
       "      <td>2013J</td>\n",
       "      <td>28400</td>\n",
       "      <td>546714</td>\n",
       "      <td>-10</td>\n",
       "      <td>1</td>\n",
       "    </tr>\n",
       "  </tbody>\n",
       "</table>\n",
       "</div>"
      ],
      "text/plain": [
       "  code_module code_presentation  id_student  id_site  date  sum_click\n",
       "0         AAA             2013J       28400   546652   -10          4\n",
       "1         AAA             2013J       28400   546652   -10          1\n",
       "2         AAA             2013J       28400   546652   -10          1\n",
       "3         AAA             2013J       28400   546614   -10         11\n",
       "4         AAA             2013J       28400   546714   -10          1"
      ]
     },
     "execution_count": 14,
     "metadata": {},
     "output_type": "execute_result"
    },
    {
     "data": {
      "image/png": "[encoded data removed]",
      "text/plain": [
       "<Figure size 640x480 with 1 Axes>"
      ]
     },
     "metadata": {},
     "output_type": "display_data"
    }
   ],
   "source": [
    "studentVle_xxx.set_index(['id_student']).loc[28400][['date']].hist(bins=250)\n",
    "\n",
    "studentVle_xxx.head()"
   ]
  },
  {
   "cell_type": "code",
   "execution_count": 15,
   "id": "7670f624",
   "metadata": {},
   "outputs": [
    {
     "data": {
      "text/plain": [
       "[<matplotlib.lines.Line2D at 0x7f6774d9ddb0>]"
      ]
     },
     "execution_count": 15,
     "metadata": {},
     "output_type": "execute_result"
    },
    {
     "data": {
      "image/png": "[encoded data removed]",
      "text/plain": [
       "<Figure size 640x480 with 1 Axes>"
      ]
     },
     "metadata": {},
     "output_type": "display_data"
    }
   ],
   "source": [
    "import matplotlib.pyplot as plt\n",
    "\n",
    "plt.plot(studentVle_xxx.set_index(['id_student']).loc[28400].groupby(by='date').sum(numeric_only=True)['sum_click'])\n",
    "# [['date']]"
   ]
  },
  {
   "cell_type": "code",
   "execution_count": 16,
   "id": "47af1e9d",
   "metadata": {},
   "outputs": [],
   "source": [
    "# elements of filter vle function\n",
    "studentVle_tmp = pd.read_csv('../data/studentVle.csv')\n",
    "# studentData_DDD.index.values"
   ]
  },
  {
   "cell_type": "code",
   "execution_count": 17,
   "id": "c9cf93fb",
   "metadata": {},
   "outputs": [
    {
     "data": {
      "text/html": [
       "<div>\n",
       "<style scoped>\n",
       "    .dataframe tbody tr th:only-of-type {\n",
       "        vertical-align: middle;\n",
       "    }\n",
       "\n",
       "    .dataframe tbody tr th {\n",
       "        vertical-align: top;\n",
       "    }\n",
       "\n",
       "    .dataframe thead th {\n",
       "        text-align: right;\n",
       "    }\n",
       "</style>\n",
       "<table border=\"1\" class=\"dataframe\">\n",
       "  <thead>\n",
       "    <tr style=\"text-align: right;\">\n",
       "      <th></th>\n",
       "      <th>id_student</th>\n",
       "      <th>id_site</th>\n",
       "      <th>date</th>\n",
       "      <th>sum_click</th>\n",
       "    </tr>\n",
       "  </thead>\n",
       "  <tbody>\n",
       "    <tr>\n",
       "      <th>3125689</th>\n",
       "      <td>430516</td>\n",
       "      <td>547493</td>\n",
       "      <td>-16</td>\n",
       "      <td>3</td>\n",
       "    </tr>\n",
       "    <tr>\n",
       "      <th>3125690</th>\n",
       "      <td>430516</td>\n",
       "      <td>547303</td>\n",
       "      <td>-16</td>\n",
       "      <td>6</td>\n",
       "    </tr>\n",
       "    <tr>\n",
       "      <th>3125691</th>\n",
       "      <td>430516</td>\n",
       "      <td>547814</td>\n",
       "      <td>-16</td>\n",
       "      <td>2</td>\n",
       "    </tr>\n",
       "    <tr>\n",
       "      <th>3125692</th>\n",
       "      <td>420388</td>\n",
       "      <td>547810</td>\n",
       "      <td>-16</td>\n",
       "      <td>1</td>\n",
       "    </tr>\n",
       "    <tr>\n",
       "      <th>3125693</th>\n",
       "      <td>420388</td>\n",
       "      <td>547303</td>\n",
       "      <td>-16</td>\n",
       "      <td>3</td>\n",
       "    </tr>\n",
       "    <tr>\n",
       "      <th>...</th>\n",
       "      <td>...</td>\n",
       "      <td>...</td>\n",
       "      <td>...</td>\n",
       "      <td>...</td>\n",
       "    </tr>\n",
       "    <tr>\n",
       "      <th>5292170</th>\n",
       "      <td>63015</td>\n",
       "      <td>813710</td>\n",
       "      <td>262</td>\n",
       "      <td>3</td>\n",
       "    </tr>\n",
       "    <tr>\n",
       "      <th>5292171</th>\n",
       "      <td>63015</td>\n",
       "      <td>813710</td>\n",
       "      <td>262</td>\n",
       "      <td>2</td>\n",
       "    </tr>\n",
       "    <tr>\n",
       "      <th>5292172</th>\n",
       "      <td>63015</td>\n",
       "      <td>813701</td>\n",
       "      <td>262</td>\n",
       "      <td>3</td>\n",
       "    </tr>\n",
       "    <tr>\n",
       "      <th>5292173</th>\n",
       "      <td>63015</td>\n",
       "      <td>813708</td>\n",
       "      <td>262</td>\n",
       "      <td>1</td>\n",
       "    </tr>\n",
       "    <tr>\n",
       "      <th>5292174</th>\n",
       "      <td>256144</td>\n",
       "      <td>813701</td>\n",
       "      <td>262</td>\n",
       "      <td>2</td>\n",
       "    </tr>\n",
       "  </tbody>\n",
       "</table>\n",
       "<p>2166486 rows × 4 columns</p>\n",
       "</div>"
      ],
      "text/plain": [
       "         id_student  id_site  date  sum_click\n",
       "3125689      430516   547493   -16          3\n",
       "3125690      430516   547303   -16          6\n",
       "3125691      430516   547814   -16          2\n",
       "3125692      420388   547810   -16          1\n",
       "3125693      420388   547303   -16          3\n",
       "...             ...      ...   ...        ...\n",
       "5292170       63015   813710   262          3\n",
       "5292171       63015   813710   262          2\n",
       "5292172       63015   813701   262          3\n",
       "5292173       63015   813708   262          1\n",
       "5292174      256144   813701   262          2\n",
       "\n",
       "[2166486 rows x 4 columns]"
      ]
     },
     "metadata": {},
     "output_type": "display_data"
    }
   ],
   "source": [
    "studentVle_tmp = studentVle_tmp.loc[studentVle_tmp.code_module=='DDD'].drop(columns=['code_module', 'code_presentation'])\n",
    "display(studentVle_tmp)"
   ]
  },
  {
   "cell_type": "code",
   "execution_count": 18,
   "id": "f90ddd90",
   "metadata": {},
   "outputs": [],
   "source": [
    "# tutaj można pofiltrować odpowiednie materiały do interakcji i to raczej bedzie robione później\n",
    "studentVle_tmp = studentVle_tmp.drop(columns=['id_site']).groupby(by=['id_student', 'date']).sum().sort_index().reset_index()"
   ]
  },
  {
   "cell_type": "code",
   "execution_count": 19,
   "id": "5ad893c0",
   "metadata": {},
   "outputs": [
    {
     "data": {
      "text/html": [
       "<div>\n",
       "<style scoped>\n",
       "    .dataframe tbody tr th:only-of-type {\n",
       "        vertical-align: middle;\n",
       "    }\n",
       "\n",
       "    .dataframe tbody tr th {\n",
       "        vertical-align: top;\n",
       "    }\n",
       "\n",
       "    .dataframe thead th {\n",
       "        text-align: right;\n",
       "    }\n",
       "</style>\n",
       "<table border=\"1\" class=\"dataframe\">\n",
       "  <thead>\n",
       "    <tr style=\"text-align: right;\">\n",
       "      <th></th>\n",
       "      <th>id_student</th>\n",
       "      <th>date</th>\n",
       "      <th>sum_click</th>\n",
       "    </tr>\n",
       "  </thead>\n",
       "  <tbody>\n",
       "    <tr>\n",
       "      <th>0</th>\n",
       "      <td>8462</td>\n",
       "      <td>-6</td>\n",
       "      <td>10</td>\n",
       "    </tr>\n",
       "    <tr>\n",
       "      <th>1</th>\n",
       "      <td>8462</td>\n",
       "      <td>-4</td>\n",
       "      <td>2</td>\n",
       "    </tr>\n",
       "    <tr>\n",
       "      <th>2</th>\n",
       "      <td>8462</td>\n",
       "      <td>-3</td>\n",
       "      <td>39</td>\n",
       "    </tr>\n",
       "    <tr>\n",
       "      <th>3</th>\n",
       "      <td>8462</td>\n",
       "      <td>-2</td>\n",
       "      <td>20</td>\n",
       "    </tr>\n",
       "    <tr>\n",
       "      <th>4</th>\n",
       "      <td>8462</td>\n",
       "      <td>-1</td>\n",
       "      <td>10</td>\n",
       "    </tr>\n",
       "    <tr>\n",
       "      <th>...</th>\n",
       "      <td>...</td>\n",
       "      <td>...</td>\n",
       "      <td>...</td>\n",
       "    </tr>\n",
       "    <tr>\n",
       "      <th>389545</th>\n",
       "      <td>2698251</td>\n",
       "      <td>222</td>\n",
       "      <td>7</td>\n",
       "    </tr>\n",
       "    <tr>\n",
       "      <th>389546</th>\n",
       "      <td>2698251</td>\n",
       "      <td>226</td>\n",
       "      <td>82</td>\n",
       "    </tr>\n",
       "    <tr>\n",
       "      <th>389547</th>\n",
       "      <td>2698251</td>\n",
       "      <td>227</td>\n",
       "      <td>9</td>\n",
       "    </tr>\n",
       "    <tr>\n",
       "      <th>389548</th>\n",
       "      <td>2698251</td>\n",
       "      <td>228</td>\n",
       "      <td>13</td>\n",
       "    </tr>\n",
       "    <tr>\n",
       "      <th>389549</th>\n",
       "      <td>2698251</td>\n",
       "      <td>229</td>\n",
       "      <td>3</td>\n",
       "    </tr>\n",
       "  </tbody>\n",
       "</table>\n",
       "<p>389550 rows × 3 columns</p>\n",
       "</div>"
      ],
      "text/plain": [
       "        id_student  date  sum_click\n",
       "0             8462    -6         10\n",
       "1             8462    -4          2\n",
       "2             8462    -3         39\n",
       "3             8462    -2         20\n",
       "4             8462    -1         10\n",
       "...            ...   ...        ...\n",
       "389545     2698251   222          7\n",
       "389546     2698251   226         82\n",
       "389547     2698251   227          9\n",
       "389548     2698251   228         13\n",
       "389549     2698251   229          3\n",
       "\n",
       "[389550 rows x 3 columns]"
      ]
     },
     "metadata": {},
     "output_type": "display_data"
    }
   ],
   "source": [
    "display(studentVle_tmp)\n",
    "# studentVle_tmp..loc[studentVle_tmp[['id_student']].applymap(lambda x: x in studentData_DDD.index.values)]\n",
    "# studentVle_tmp[['id_student']].applymap(lambda x: x in studentData_DDD.index.values)"
   ]
  },
  {
   "cell_type": "code",
   "execution_count": 20,
   "id": "13e657bc",
   "metadata": {},
   "outputs": [
    {
     "name": "stdout",
     "output_type": "stream",
     "text": [
      "<class 'pandas.core.frame.DataFrame'>\n",
      "RangeIndex: 389550 entries, 0 to 389549\n",
      "Data columns (total 3 columns):\n",
      " #   Column      Non-Null Count   Dtype\n",
      "---  ------      --------------   -----\n",
      " 0   id_student  389550 non-null  int64\n",
      " 1   date        389550 non-null  int64\n",
      " 2   sum_click   389550 non-null  int64\n",
      "dtypes: int64(3)\n",
      "memory usage: 8.9 MB\n"
     ]
    }
   ],
   "source": [
    "studentVle_tmp.info()"
   ]
  },
  {
   "cell_type": "code",
   "execution_count": 21,
   "id": "4857fa9f",
   "metadata": {},
   "outputs": [],
   "source": [
    "studentVle_tmp = studentVle_tmp.loc[studentVle_tmp[['id_student']].applymap(lambda x: x in studentData_DDD.index.values).values].set_index(['id_student', 'date'])"
   ]
  },
  {
   "cell_type": "code",
   "execution_count": 22,
   "id": "6e3bb37e",
   "metadata": {},
   "outputs": [
    {
     "data": {
      "text/plain": [
       "Int64Index([  28046,   29411,   33930,   40184,   40563,   46753,   48152,\n",
       "              50476,   51030,   51033,\n",
       "            ...\n",
       "            2685863, 2686578, 2688692, 2689536, 2692577, 2693243, 2694886,\n",
       "            2694933, 2695608, 2698251],\n",
       "           dtype='int64', name='id_student', length=2640)"
      ]
     },
     "execution_count": 22,
     "metadata": {},
     "output_type": "execute_result"
    }
   ],
   "source": [
    "studentVle_tmp.index.get_level_values(level='id_student').unique()"
   ]
  },
  {
   "cell_type": "code",
   "execution_count": 23,
   "id": "79d88eb0",
   "metadata": {},
   "outputs": [],
   "source": [
    "def get_filtered_vle(code_module, code_presentation_list, id_student_list:np.ndarray, date_range):\n",
    "    studentVle_tmp = pd.read_csv('../data/studentVle.csv')\n",
    "    studentVle_tmp = studentVle_tmp.loc[studentVle_tmp[['code_presentation']].applymap(lambda x: x in code_presentation_list).values]\n",
    "    studentVle_tmp = studentVle_tmp.loc[studentVle_tmp[['date']].applymap(lambda x: x in date_range).values]\n",
    "    studentVle_tmp = studentVle_tmp.loc[studentVle_tmp.code_module==code_module].drop(columns=['code_module', 'code_presentation'])\n",
    "    studentVle_tmp = studentVle_tmp.drop(columns=['id_site']).groupby(by=['id_student', 'date']).sum().sort_index().reset_index()\n",
    "    studentVle_tmp = studentVle_tmp.loc[studentVle_tmp[['id_student']].applymap(lambda x: x in id_student_list).values].set_index(['id_student', 'date'])\n",
    "    \n",
    "    return studentVle_tmp"
   ]
  },
  {
   "cell_type": "code",
   "execution_count": 24,
   "id": "ce1f10a1",
   "metadata": {},
   "outputs": [],
   "source": [
    "studentData_DDD_J = studentData_DDD.loc[studentData_DDD[['code_presentation']].applymap(lambda x: x in ['2013J', '2014J']).values]"
   ]
  },
  {
   "cell_type": "code",
   "execution_count": 25,
   "id": "f963f158",
   "metadata": {},
   "outputs": [],
   "source": [
    "v = get_filtered_vle('DDD', ['2013J', '2014J'], studentData_DDD_J.index.get_level_values(level='id_student'), list(range(-10, 262)))"
   ]
  },
  {
   "cell_type": "code",
   "execution_count": 26,
   "id": "aeb1719c",
   "metadata": {},
   "outputs": [
    {
     "data": {
      "text/plain": [
       "Int64Index([  28046,   29411,   33930,   40184,   40563,   48152,   51033,\n",
       "              51153,   51163,   51955,\n",
       "            ...\n",
       "            2658898, 2662152, 2671469, 2677097, 2677210, 2678380, 2684043,\n",
       "            2685863, 2686578, 2695608],\n",
       "           dtype='int64', name='id_student', length=1683)"
      ]
     },
     "execution_count": 26,
     "metadata": {},
     "output_type": "execute_result"
    }
   ],
   "source": [
    "v.index.get_level_values(level='id_student').unique()"
   ]
  },
  {
   "cell_type": "code",
   "execution_count": 27,
   "id": "fc06bc4e",
   "metadata": {},
   "outputs": [],
   "source": [
    "# doll = pd.DataFrame(data = {\"x\":[2,1,2],\"a\":[9,5,8], \"b\":[0,9,9]}).set_index(['x','a'])\n",
    "# display(doll)"
   ]
  },
  {
   "cell_type": "code",
   "execution_count": 28,
   "id": "d85f78e9",
   "metadata": {},
   "outputs": [],
   "source": [
    "# np.nan_to_num(doll.squeeze().to_xarray().to_numpy())\n",
    "# doll.squeeze().to_xarray().to_numpy()"
   ]
  },
  {
   "cell_type": "code",
   "execution_count": 29,
   "id": "e942df63",
   "metadata": {},
   "outputs": [],
   "source": [
    "used_id_student, student_date_site_sumclick_aggregated_tensor = get_student_date_site_sumclick_aggregated_tensor(v)"
   ]
  },
  {
   "cell_type": "code",
   "execution_count": 30,
   "id": "f0288b9c",
   "metadata": {},
   "outputs": [
    {
     "data": {
      "text/plain": [
       "array([  28046,   29411,   33930, ..., 2685863, 2686578, 2695608])"
      ]
     },
     "execution_count": 30,
     "metadata": {},
     "output_type": "execute_result"
    }
   ],
   "source": [
    "used_id_student.shape\n",
    "used_id_student"
   ]
  },
  {
   "cell_type": "code",
   "execution_count": 31,
   "id": "a4d05b58",
   "metadata": {},
   "outputs": [
    {
     "data": {
      "text/plain": [
       "(1683, 272)"
      ]
     },
     "execution_count": 31,
     "metadata": {},
     "output_type": "execute_result"
    }
   ],
   "source": [
    "student_date_site_sumclick_aggregated_tensor.shape"
   ]
  },
  {
   "cell_type": "code",
   "execution_count": 32,
   "id": "35d572fd",
   "metadata": {},
   "outputs": [
    {
     "data": {
      "text/plain": [
       "array([[ 0.,  0.,  0., ...,  0.,  0.,  0.],\n",
       "       [ 8.,  8.,  3., ...,  0.,  0.,  0.],\n",
       "       [ 0.,  0.,  0., ...,  0.,  0.,  0.],\n",
       "       ...,\n",
       "       [61., 16.,  0., ...,  0.,  0.,  0.],\n",
       "       [ 0.,  0.,  0., ...,  2.,  0.,  0.],\n",
       "       [ 1.,  0.,  0., ...,  0.,  0.,  0.]])"
      ]
     },
     "execution_count": 32,
     "metadata": {},
     "output_type": "execute_result"
    }
   ],
   "source": [
    "student_date_site_sumclick_aggregated_tensor"
   ]
  },
  {
   "cell_type": "code",
   "execution_count": 33,
   "id": "17695b8b",
   "metadata": {},
   "outputs": [],
   "source": [
    "studentData_DDD_J = studentData_DDD_J.sort_index()"
   ]
  },
  {
   "cell_type": "code",
   "execution_count": 34,
   "id": "9eded5d4",
   "metadata": {},
   "outputs": [],
   "source": [
    "studentData_DDD_J.to_csv('../data/studentInfo_DDDJ_v1.csv')\n",
    "np.save('../data/studentVle_DDDJ_v1.npy', student_date_site_sumclick_aggregated_tensor)"
   ]
  },
  {
   "cell_type": "code",
   "execution_count": null,
   "id": "71357b6c",
   "metadata": {},
   "outputs": [],
   "source": []
  }
 ],
 "metadata": {
  "kernelspec": {
   "display_name": "Python 3 (ipykernel)",
   "language": "python",
   "name": "python3"
  },
  "language_info": {
   "codemirror_mode": {
    "name": "ipython",
    "version": 3
   },
   "file_extension": ".py",
   "mimetype": "text/x-python",
   "name": "python",
   "nbconvert_exporter": "python",
   "pygments_lexer": "ipython3",
   "version": "3.10.6"
  }
 },
 "nbformat": 4,
 "nbformat_minor": 5
}
