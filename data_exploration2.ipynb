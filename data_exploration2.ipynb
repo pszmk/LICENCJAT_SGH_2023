{
 "cells": [
  {
   "cell_type": "code",
   "execution_count": 4,
   "id": "3029867a",
   "metadata": {},
   "outputs": [
    {
     "data": {
      "text/plain": [
       "'3.8.10'"
      ]
     },
     "execution_count": 4,
     "metadata": {},
     "output_type": "execute_result"
    }
   ],
   "source": [
    "from platform import python_version\n",
    "python_version()"
   ]
  },
  {
   "cell_type": "code",
   "execution_count": 21,
   "id": "a5b49521",
   "metadata": {},
   "outputs": [],
   "source": [
    "import numpy as np\n",
    "import pandas as pd\n",
    "import xarray as xr\n",
    "import matplotlib.pyplot as plt\n",
    "\n",
    "assessments = pd.read_csv('data/source_data/assessments.csv')\n",
    "studentInfo = pd.read_csv('data/source_data/studentInfo.csv')"
   ]
  },
  {
   "cell_type": "code",
   "execution_count": 3,
   "id": "bc0a42e3",
   "metadata": {},
   "outputs": [],
   "source": [
    "query_params = {\"code_module\" : \"FFF\",\n",
    "                \"code_presentation\" : \"2014J\"}"
   ]
  },
  {
   "cell_type": "code",
   "execution_count": 63,
   "id": "802872ed",
   "metadata": {},
   "outputs": [
    {
     "data": {
      "text/html": [
       "<div>\n",
       "<style scoped>\n",
       "    .dataframe tbody tr th:only-of-type {\n",
       "        vertical-align: middle;\n",
       "    }\n",
       "\n",
       "    .dataframe tbody tr th {\n",
       "        vertical-align: top;\n",
       "    }\n",
       "\n",
       "    .dataframe thead th {\n",
       "        text-align: right;\n",
       "    }\n",
       "</style>\n",
       "<table border=\"1\" class=\"dataframe\">\n",
       "  <thead>\n",
       "    <tr style=\"text-align: right;\">\n",
       "      <th></th>\n",
       "      <th>assessment_type</th>\n",
       "      <th>date</th>\n",
       "      <th>weight</th>\n",
       "    </tr>\n",
       "    <tr>\n",
       "      <th>id_assessment</th>\n",
       "      <th></th>\n",
       "      <th></th>\n",
       "      <th></th>\n",
       "    </tr>\n",
       "  </thead>\n",
       "  <tbody>\n",
       "    <tr>\n",
       "      <th>34899</th>\n",
       "      <td>TMA</td>\n",
       "      <td>24.0</td>\n",
       "      <td>12.5</td>\n",
       "    </tr>\n",
       "    <tr>\n",
       "      <th>34900</th>\n",
       "      <td>TMA</td>\n",
       "      <td>52.0</td>\n",
       "      <td>12.5</td>\n",
       "    </tr>\n",
       "    <tr>\n",
       "      <th>34901</th>\n",
       "      <td>TMA</td>\n",
       "      <td>94.0</td>\n",
       "      <td>25.0</td>\n",
       "    </tr>\n",
       "    <tr>\n",
       "      <th>34902</th>\n",
       "      <td>TMA</td>\n",
       "      <td>136.0</td>\n",
       "      <td>25.0</td>\n",
       "    </tr>\n",
       "    <tr>\n",
       "      <th>34903</th>\n",
       "      <td>TMA</td>\n",
       "      <td>199.0</td>\n",
       "      <td>25.0</td>\n",
       "    </tr>\n",
       "    <tr>\n",
       "      <th>34904</th>\n",
       "      <td>CMA</td>\n",
       "      <td>241.0</td>\n",
       "      <td>0.0</td>\n",
       "    </tr>\n",
       "    <tr>\n",
       "      <th>34905</th>\n",
       "      <td>CMA</td>\n",
       "      <td>241.0</td>\n",
       "      <td>0.0</td>\n",
       "    </tr>\n",
       "    <tr>\n",
       "      <th>34906</th>\n",
       "      <td>CMA</td>\n",
       "      <td>241.0</td>\n",
       "      <td>0.0</td>\n",
       "    </tr>\n",
       "    <tr>\n",
       "      <th>34907</th>\n",
       "      <td>CMA</td>\n",
       "      <td>241.0</td>\n",
       "      <td>0.0</td>\n",
       "    </tr>\n",
       "    <tr>\n",
       "      <th>34908</th>\n",
       "      <td>CMA</td>\n",
       "      <td>241.0</td>\n",
       "      <td>0.0</td>\n",
       "    </tr>\n",
       "    <tr>\n",
       "      <th>34909</th>\n",
       "      <td>CMA</td>\n",
       "      <td>241.0</td>\n",
       "      <td>0.0</td>\n",
       "    </tr>\n",
       "    <tr>\n",
       "      <th>34910</th>\n",
       "      <td>CMA</td>\n",
       "      <td>241.0</td>\n",
       "      <td>0.0</td>\n",
       "    </tr>\n",
       "    <tr>\n",
       "      <th>34911</th>\n",
       "      <td>Exam</td>\n",
       "      <td>241.0</td>\n",
       "      <td>100.0</td>\n",
       "    </tr>\n",
       "  </tbody>\n",
       "</table>\n",
       "</div>"
      ],
      "text/plain": [
       "              assessment_type   date  weight\n",
       "id_assessment                               \n",
       "34899                     TMA   24.0    12.5\n",
       "34900                     TMA   52.0    12.5\n",
       "34901                     TMA   94.0    25.0\n",
       "34902                     TMA  136.0    25.0\n",
       "34903                     TMA  199.0    25.0\n",
       "34904                     CMA  241.0     0.0\n",
       "34905                     CMA  241.0     0.0\n",
       "34906                     CMA  241.0     0.0\n",
       "34907                     CMA  241.0     0.0\n",
       "34908                     CMA  241.0     0.0\n",
       "34909                     CMA  241.0     0.0\n",
       "34910                     CMA  241.0     0.0\n",
       "34911                    Exam  241.0   100.0"
      ]
     },
     "execution_count": 63,
     "metadata": {},
     "output_type": "execute_result"
    }
   ],
   "source": [
    "assessments_hier = assessments.loc[assessments['code_module']==query_params['code_module']].loc[assessments['code_presentation']==query_params['code_presentation']].drop(columns=['code_module', 'code_presentation']).set_index(['id_assessment']).sort_index()\n",
    "assessments_hier"
   ]
  },
  {
   "cell_type": "code",
   "execution_count": 36,
   "id": "2ae7025f",
   "metadata": {},
   "outputs": [
    {
     "data": {
      "text/plain": [
       "array([  35747,   35796,   40857, ..., 2686035, 2694139, 2702660])"
      ]
     },
     "execution_count": 36,
     "metadata": {},
     "output_type": "execute_result"
    }
   ],
   "source": [
    "studentInfo_hier = studentInfo.loc[studentInfo['code_module']==query_params['code_module']].loc[studentInfo['code_presentation']==query_params['code_presentation']].drop(columns=['code_module', 'code_presentation']).set_index(['id_student']).sort_index()\n",
    "# get only first try students\n",
    "studentInfo_hier = studentInfo_hier.loc[studentInfo_hier.num_of_prev_attempts==0].drop(columns=['num_of_prev_attempts'])\n",
    "chosen_id_students = studentInfo_hier.index.values\n",
    "studentInfo_hier.head()"
   ]
  },
  {
   "cell_type": "code",
   "execution_count": 79,
   "id": "55aa0565",
   "metadata": {},
   "outputs": [
    {
     "ename": "TypeError",
     "evalue": "unsupported operand type(s) for |: 'dict' and 'dict'",
     "output_type": "error",
     "traceback": [
      "\u001b[0;31m---------------------------------------------------------------------------\u001b[0m",
      "\u001b[0;31mTypeError\u001b[0m                                 Traceback (most recent call last)",
      "\u001b[0;32m<ipython-input-79-f70c8e389fc7>\u001b[0m in \u001b[0;36m<module>\u001b[0;34m\u001b[0m\n\u001b[1;32m      4\u001b[0m \u001b[0;31m# fake_fill\u001b[0m\u001b[0;34m\u001b[0m\u001b[0;34m\u001b[0m\u001b[0;34m\u001b[0m\u001b[0m\n\u001b[1;32m      5\u001b[0m \u001b[0;34m\u001b[0m\u001b[0m\n\u001b[0;32m----> 6\u001b[0;31m {col_name: [np.nan for _ in range(assessments_hier.index.values.shape[0])]\n\u001b[0m\u001b[1;32m      7\u001b[0m                                  for col_name in ['date_submitted','is_banked','score']}|{\"3\":3}\n\u001b[1;32m      8\u001b[0m \u001b[0;34m\u001b[0m\u001b[0m\n",
      "\u001b[0;31mTypeError\u001b[0m: unsupported operand type(s) for |: 'dict' and 'dict'"
     ]
    }
   ],
   "source": [
    "# fake_fill = pd.DataFrame(data = {col_name: [np.nan for _ in range(assessments_hier.index.values.shape[0])]\n",
    "#                                  for col_name in ['date_submitted','is_banked','score']}.,\n",
    "#                          index = )\n",
    "# fake_fill\n",
    "\n",
    "{col_name: [np.nan for _ in range(assessments_hier.index.values.shape[0])]\n",
    "                                 for col_name in ['date_submitted','is_banked','score']}|{\"3\":3}\n",
    "\n",
    "# studentAssessment_hier.loc[31296].set_index(['id_assessment']).head().combine_first(fake_fill).sort_index()"
   ]
  },
  {
   "cell_type": "code",
   "execution_count": 27,
   "id": "715ddd91",
   "metadata": {},
   "outputs": [
    {
     "data": {
      "text/html": [
       "<div>\n",
       "<style scoped>\n",
       "    .dataframe tbody tr th:only-of-type {\n",
       "        vertical-align: middle;\n",
       "    }\n",
       "\n",
       "    .dataframe tbody tr th {\n",
       "        vertical-align: top;\n",
       "    }\n",
       "\n",
       "    .dataframe thead th {\n",
       "        text-align: right;\n",
       "    }\n",
       "</style>\n",
       "<table border=\"1\" class=\"dataframe\">\n",
       "  <thead>\n",
       "    <tr style=\"text-align: right;\">\n",
       "      <th></th>\n",
       "      <th>id_assessment</th>\n",
       "      <th>date_submitted</th>\n",
       "      <th>is_banked</th>\n",
       "      <th>score</th>\n",
       "    </tr>\n",
       "    <tr>\n",
       "      <th>id_student</th>\n",
       "      <th></th>\n",
       "      <th></th>\n",
       "      <th></th>\n",
       "      <th></th>\n",
       "    </tr>\n",
       "  </thead>\n",
       "  <tbody>\n",
       "    <tr>\n",
       "      <th>31296</th>\n",
       "      <td>34899</td>\n",
       "      <td>24</td>\n",
       "      <td>0</td>\n",
       "      <td>78.0</td>\n",
       "    </tr>\n",
       "    <tr>\n",
       "      <th>31296</th>\n",
       "      <td>34900</td>\n",
       "      <td>58</td>\n",
       "      <td>0</td>\n",
       "      <td>40.0</td>\n",
       "    </tr>\n",
       "    <tr>\n",
       "      <th>31296</th>\n",
       "      <td>34901</td>\n",
       "      <td>97</td>\n",
       "      <td>0</td>\n",
       "      <td>38.0</td>\n",
       "    </tr>\n",
       "    <tr>\n",
       "      <th>31296</th>\n",
       "      <td>34902</td>\n",
       "      <td>141</td>\n",
       "      <td>0</td>\n",
       "      <td>43.0</td>\n",
       "    </tr>\n",
       "    <tr>\n",
       "      <th>31296</th>\n",
       "      <td>34903</td>\n",
       "      <td>199</td>\n",
       "      <td>0</td>\n",
       "      <td>69.0</td>\n",
       "    </tr>\n",
       "  </tbody>\n",
       "</table>\n",
       "</div>"
      ],
      "text/plain": [
       "            id_assessment  date_submitted  is_banked  score\n",
       "id_student                                                 \n",
       "31296               34899              24          0   78.0\n",
       "31296               34900              58          0   40.0\n",
       "31296               34901              97          0   38.0\n",
       "31296               34902             141          0   43.0\n",
       "31296               34903             199          0   69.0"
      ]
     },
     "execution_count": 27,
     "metadata": {},
     "output_type": "execute_result"
    }
   ],
   "source": [
    "def get_right_studentAssessment_data(query_params = {\"code_module\" : \"FFF\", \"code_presentation\" : \"2014J\"}, chosen_id_students):\n",
    "    studentAssessment_tmp = pd.read_csv('data/source_data/studentAssessment.csv')\n",
    "    studentAssessment_tmp = studentAssessment.loc[studentAssessment[['id_assessment']].applymap(lambda x: x in assessments_hier.index.values)['id_assessment'].values].set_index(['id_student', 'id_assessment']).sort_index().reset_index().set_index(['id_student'])\n",
    "    complete_empty_studentAssessment_tmp = pd.DataFrame(data=)\n",
    "# studentAssessment_hier.loc[chosen_id_students]\n"
   ]
  },
  {
   "cell_type": "code",
   "execution_count": 23,
   "id": "a48ba812",
   "metadata": {},
   "outputs": [],
   "source": []
  },
  {
   "cell_type": "code",
   "execution_count": 26,
   "id": "603862ef",
   "metadata": {},
   "outputs": [
    {
     "data": {
      "text/plain": [
       "0    2034\n",
       "1     244\n",
       "2      66\n",
       "3      14\n",
       "4       6\n",
       "6       1\n",
       "Name: num_of_prev_attempts, dtype: int64"
      ]
     },
     "execution_count": 26,
     "metadata": {},
     "output_type": "execute_result"
    }
   ],
   "source": [
    "studentInfo_hier.num_of_prev_attempts.value_counts()"
   ]
  },
  {
   "cell_type": "code",
   "execution_count": 42,
   "id": "fa9a648b",
   "metadata": {},
   "outputs": [],
   "source": [
    "# filtering students\n",
    "# 1) first attempt - to get behaviour"
   ]
  },
  {
   "cell_type": "code",
   "execution_count": 55,
   "id": "1f3d47c8",
   "metadata": {},
   "outputs": [],
   "source": [
    "doll1 = pd.DataFrame(data=[[2,3], [np.nan, 4]])\n",
    "doll2 = pd.DataFrame(data=[[2,3], [5, np.nan], [3,3]], index = [3,1,2])"
   ]
  },
  {
   "cell_type": "code",
   "execution_count": 56,
   "id": "11eb5ef2",
   "metadata": {},
   "outputs": [
    {
     "data": {
      "text/html": [
       "<div>\n",
       "<style scoped>\n",
       "    .dataframe tbody tr th:only-of-type {\n",
       "        vertical-align: middle;\n",
       "    }\n",
       "\n",
       "    .dataframe tbody tr th {\n",
       "        vertical-align: top;\n",
       "    }\n",
       "\n",
       "    .dataframe thead th {\n",
       "        text-align: right;\n",
       "    }\n",
       "</style>\n",
       "<table border=\"1\" class=\"dataframe\">\n",
       "  <thead>\n",
       "    <tr style=\"text-align: right;\">\n",
       "      <th></th>\n",
       "      <th>0</th>\n",
       "      <th>1</th>\n",
       "    </tr>\n",
       "  </thead>\n",
       "  <tbody>\n",
       "    <tr>\n",
       "      <th>0</th>\n",
       "      <td>2.0</td>\n",
       "      <td>3</td>\n",
       "    </tr>\n",
       "    <tr>\n",
       "      <th>1</th>\n",
       "      <td>NaN</td>\n",
       "      <td>4</td>\n",
       "    </tr>\n",
       "  </tbody>\n",
       "</table>\n",
       "</div>"
      ],
      "text/plain": [
       "     0  1\n",
       "0  2.0  3\n",
       "1  NaN  4"
      ]
     },
     "execution_count": 56,
     "metadata": {},
     "output_type": "execute_result"
    }
   ],
   "source": [
    "doll1"
   ]
  },
  {
   "cell_type": "code",
   "execution_count": 58,
   "id": "73517aab",
   "metadata": {},
   "outputs": [
    {
     "data": {
      "text/html": [
       "<div>\n",
       "<style scoped>\n",
       "    .dataframe tbody tr th:only-of-type {\n",
       "        vertical-align: middle;\n",
       "    }\n",
       "\n",
       "    .dataframe tbody tr th {\n",
       "        vertical-align: top;\n",
       "    }\n",
       "\n",
       "    .dataframe thead th {\n",
       "        text-align: right;\n",
       "    }\n",
       "</style>\n",
       "<table border=\"1\" class=\"dataframe\">\n",
       "  <thead>\n",
       "    <tr style=\"text-align: right;\">\n",
       "      <th></th>\n",
       "      <th>0</th>\n",
       "      <th>1</th>\n",
       "    </tr>\n",
       "  </thead>\n",
       "  <tbody>\n",
       "    <tr>\n",
       "      <th>3</th>\n",
       "      <td>2</td>\n",
       "      <td>3.0</td>\n",
       "    </tr>\n",
       "    <tr>\n",
       "      <th>1</th>\n",
       "      <td>5</td>\n",
       "      <td>NaN</td>\n",
       "    </tr>\n",
       "    <tr>\n",
       "      <th>2</th>\n",
       "      <td>3</td>\n",
       "      <td>3.0</td>\n",
       "    </tr>\n",
       "  </tbody>\n",
       "</table>\n",
       "</div>"
      ],
      "text/plain": [
       "   0    1\n",
       "3  2  3.0\n",
       "1  5  NaN\n",
       "2  3  3.0"
      ]
     },
     "execution_count": 58,
     "metadata": {},
     "output_type": "execute_result"
    }
   ],
   "source": [
    "doll2"
   ]
  },
  {
   "cell_type": "code",
   "execution_count": 59,
   "id": "273fa69b",
   "metadata": {},
   "outputs": [
    {
     "data": {
      "text/html": [
       "<div>\n",
       "<style scoped>\n",
       "    .dataframe tbody tr th:only-of-type {\n",
       "        vertical-align: middle;\n",
       "    }\n",
       "\n",
       "    .dataframe tbody tr th {\n",
       "        vertical-align: top;\n",
       "    }\n",
       "\n",
       "    .dataframe thead th {\n",
       "        text-align: right;\n",
       "    }\n",
       "</style>\n",
       "<table border=\"1\" class=\"dataframe\">\n",
       "  <thead>\n",
       "    <tr style=\"text-align: right;\">\n",
       "      <th></th>\n",
       "      <th>0</th>\n",
       "      <th>1</th>\n",
       "    </tr>\n",
       "  </thead>\n",
       "  <tbody>\n",
       "    <tr>\n",
       "      <th>0</th>\n",
       "      <td>2.0</td>\n",
       "      <td>3.0</td>\n",
       "    </tr>\n",
       "    <tr>\n",
       "      <th>1</th>\n",
       "      <td>5.0</td>\n",
       "      <td>4.0</td>\n",
       "    </tr>\n",
       "    <tr>\n",
       "      <th>2</th>\n",
       "      <td>3.0</td>\n",
       "      <td>3.0</td>\n",
       "    </tr>\n",
       "    <tr>\n",
       "      <th>3</th>\n",
       "      <td>2.0</td>\n",
       "      <td>3.0</td>\n",
       "    </tr>\n",
       "  </tbody>\n",
       "</table>\n",
       "</div>"
      ],
      "text/plain": [
       "     0    1\n",
       "0  2.0  3.0\n",
       "1  5.0  4.0\n",
       "2  3.0  3.0\n",
       "3  2.0  3.0"
      ]
     },
     "execution_count": 59,
     "metadata": {},
     "output_type": "execute_result"
    }
   ],
   "source": [
    "doll1.combine_first(doll2)"
   ]
  },
  {
   "cell_type": "code",
   "execution_count": null,
   "id": "f72ee2fc",
   "metadata": {},
   "outputs": [],
   "source": []
  }
 ],
 "metadata": {
  "kernelspec": {
   "display_name": "Python 3",
   "language": "python",
   "name": "python3"
  },
  "language_info": {
   "codemirror_mode": {
    "name": "ipython",
    "version": 3
   },
   "file_extension": ".py",
   "mimetype": "text/x-python",
   "name": "python",
   "nbconvert_exporter": "python",
   "pygments_lexer": "ipython3",
   "version": "3.8.10"
  }
 },
 "nbformat": 4,
 "nbformat_minor": 5
}
